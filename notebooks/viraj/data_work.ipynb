{
 "cells": [
  {
   "cell_type": "code",
   "execution_count": 1,
   "metadata": {},
   "outputs": [
    {
     "name": "stdout",
     "output_type": "stream",
     "text": [
      "Notebook Directory: c:\\Users\\viraj\\BuildSpace\\Projects\\Macroeconomic-Regime-Analysis-Credit-Risk\\notebooks\\viraj\n",
      "Project Root: c:\\Users\\viraj\\BuildSpace\\Projects\\Macroeconomic-Regime-Analysis-Credit-Risk\n"
     ]
    }
   ],
   "source": [
    "import os\n",
    "import sys\n",
    "\n",
    "# ------------------------------------------------------------------\n",
    "# 0. Set up the project root in sys.path so Python can find config.py & utilities\n",
    "# ------------------------------------------------------------------\n",
    "nb_dir = os.getcwd()  # Current working directory of the notebook\n",
    "project_root = os.path.abspath(os.path.join(nb_dir, \"../../\"))\n",
    "sys.path.append(project_root)\n",
    "\n",
    "print(\"Notebook Directory:\", nb_dir)\n",
    "print(\"Project Root:\", project_root)"
   ]
  },
  {
   "cell_type": "code",
   "execution_count": 2,
   "metadata": {},
   "outputs": [
    {
     "ename": "ImportError",
     "evalue": "cannot import name 'RAW_DATA_PATH' from 'config' (c:\\Users\\viraj\\BuildSpace\\Projects\\Macroeconomic-Regime-Analysis-Credit-Risk\\config.py)",
     "output_type": "error",
     "traceback": [
      "\u001b[1;31m---------------------------------------------------------------------------\u001b[0m",
      "\u001b[1;31mImportError\u001b[0m                               Traceback (most recent call last)",
      "Cell \u001b[1;32mIn[2], line 19\u001b[0m\n\u001b[0;32m      4\u001b[0m \u001b[38;5;28;01mfrom\u001b[39;00m \u001b[38;5;21;01mconfig\u001b[39;00m \u001b[38;5;28;01mimport\u001b[39;00m (\n\u001b[0;32m      5\u001b[0m     MACRO_DATA_PATH,\n\u001b[0;32m      6\u001b[0m     CREDIT_DATA_PATH,\n\u001b[1;32m   (...)\u001b[0m\n\u001b[0;32m     13\u001b[0m     TEST_END_DATE\n\u001b[0;32m     14\u001b[0m )\n\u001b[0;32m     16\u001b[0m \u001b[38;5;66;03m# ------------------------------------------------------------------\u001b[39;00m\n\u001b[0;32m     17\u001b[0m \u001b[38;5;66;03m# 2. Import data preprocessing functions (from utilities/data_processing.py)\u001b[39;00m\n\u001b[0;32m     18\u001b[0m \u001b[38;5;66;03m# ------------------------------------------------------------------\u001b[39;00m\n\u001b[1;32m---> 19\u001b[0m \u001b[38;5;28;01mfrom\u001b[39;00m \u001b[38;5;21;01mutilities\u001b[39;00m\u001b[38;5;21;01m.\u001b[39;00m\u001b[38;5;21;01mdata_processing\u001b[39;00m \u001b[38;5;28;01mimport\u001b[39;00m (\n\u001b[0;32m     20\u001b[0m     load_data,\n\u001b[0;32m     21\u001b[0m     preprocess_data,\n\u001b[0;32m     22\u001b[0m     create_features,\n\u001b[0;32m     23\u001b[0m     run_eda\n\u001b[0;32m     24\u001b[0m )\n\u001b[0;32m     26\u001b[0m \u001b[38;5;66;03m# ------------------------------------------------------------------\u001b[39;00m\n\u001b[0;32m     27\u001b[0m \u001b[38;5;66;03m# 3. Import additional utility functions (from utilities/functions.py)\u001b[39;00m\n\u001b[0;32m     28\u001b[0m \u001b[38;5;66;03m# ------------------------------------------------------------------\u001b[39;00m\n\u001b[0;32m     29\u001b[0m \u001b[38;5;28;01mfrom\u001b[39;00m \u001b[38;5;21;01mutilities\u001b[39;00m\u001b[38;5;21;01m.\u001b[39;00m\u001b[38;5;21;01mfunctions\u001b[39;00m \u001b[38;5;28;01mimport\u001b[39;00m (\n\u001b[0;32m     30\u001b[0m     basic_eda,\n\u001b[0;32m     31\u001b[0m     remove_outliers_zscore,\n\u001b[1;32m   (...)\u001b[0m\n\u001b[0;32m     38\u001b[0m     perform_pca\n\u001b[0;32m     39\u001b[0m )\n",
      "File \u001b[1;32mc:\\Users\\viraj\\BuildSpace\\Projects\\Macroeconomic-Regime-Analysis-Credit-Risk\\utilities\\data_processing.py:7\u001b[0m\n\u001b[0;32m      4\u001b[0m \u001b[38;5;28;01mimport\u001b[39;00m \u001b[38;5;21;01mnumpy\u001b[39;00m \u001b[38;5;28;01mas\u001b[39;00m \u001b[38;5;21;01mnp\u001b[39;00m\n\u001b[0;32m      5\u001b[0m \u001b[38;5;28;01mimport\u001b[39;00m \u001b[38;5;21;01mos\u001b[39;00m\n\u001b[1;32m----> 7\u001b[0m \u001b[38;5;28;01mfrom\u001b[39;00m \u001b[38;5;21;01mconfig\u001b[39;00m \u001b[38;5;28;01mimport\u001b[39;00m RAW_DATA_PATH\n\u001b[0;32m      8\u001b[0m \u001b[38;5;28;01mfrom\u001b[39;00m \u001b[38;5;21;01mfunctions\u001b[39;00m \u001b[38;5;28;01mimport\u001b[39;00m (\n\u001b[0;32m      9\u001b[0m     basic_eda,\n\u001b[0;32m     10\u001b[0m     plot_correlations,\n\u001b[1;32m   (...)\u001b[0m\n\u001b[0;32m     17\u001b[0m     add_interaction_terms\n\u001b[0;32m     18\u001b[0m )\n\u001b[0;32m     20\u001b[0m \u001b[38;5;28;01mdef\u001b[39;00m \u001b[38;5;21mload_raw_data\u001b[39m(filepath\u001b[38;5;241m=\u001b[39mRAW_DATA_PATH):\n",
      "\u001b[1;31mImportError\u001b[0m: cannot import name 'RAW_DATA_PATH' from 'config' (c:\\Users\\viraj\\BuildSpace\\Projects\\Macroeconomic-Regime-Analysis-Credit-Risk\\config.py)"
     ]
    }
   ],
   "source": [
    "# ------------------------------------------------------------------\n",
    "# 1. Import global settings & paths from config.py\n",
    "# ------------------------------------------------------------------\n",
    "from config import (\n",
    "    MACRO_DATA_PATH,\n",
    "    CREDIT_DATA_PATH,\n",
    "    MACRO_CREDIT_DATA_PATH,\n",
    "    RANDOM_STATE,\n",
    "    TEST_SIZE,\n",
    "    TRAIN_START_DATE,\n",
    "    TRAIN_END_DATE,\n",
    "    TEST_START_DATE,\n",
    "    TEST_END_DATE\n",
    ")\n",
    "\n",
    "# ------------------------------------------------------------------\n",
    "# 2. Import data preprocessing functions (from utilities/data_processing.py)\n",
    "# ------------------------------------------------------------------\n",
    "from utilities.data_processing import (\n",
    "    load_data,\n",
    "    preprocess_data,\n",
    "    create_features,\n",
    "    run_eda\n",
    ")\n",
    "\n",
    "# ------------------------------------------------------------------\n",
    "# 3. Import additional utility functions (from utilities/functions.py)\n",
    "# ------------------------------------------------------------------\n",
    "from utilities.functions import (\n",
    "    basic_eda,\n",
    "    remove_outliers_zscore,\n",
    "    winsorize_series,\n",
    "    add_lag_features,\n",
    "    add_rolling_features,\n",
    "    add_growth_rates,\n",
    "    add_interaction_terms,\n",
    "    cluster_data,\n",
    "    perform_pca\n",
    ")\n",
    "\n",
    "# ------------------------------------------------------------------\n",
    "# 4. (Optional) Import any model utilities if needed (from utilities/model_utils.py)\n",
    "# ------------------------------------------------------------------\n",
    "# from utilities.model_utils import (\n",
    "#     train_regression_model,\n",
    "#     evaluate_regression_model,\n",
    "#     ...\n",
    "# )"
   ]
  }
 ],
 "metadata": {
  "kernelspec": {
   "display_name": "Python 3",
   "language": "python",
   "name": "python3"
  },
  "language_info": {
   "codemirror_mode": {
    "name": "ipython",
    "version": 3
   },
   "file_extension": ".py",
   "mimetype": "text/x-python",
   "name": "python",
   "nbconvert_exporter": "python",
   "pygments_lexer": "ipython3",
   "version": "3.11.3"
  }
 },
 "nbformat": 4,
 "nbformat_minor": 2
}
